{
 "cells": [
  {
   "cell_type": "code",
   "execution_count": 1,
   "id": "831742f7",
   "metadata": {},
   "outputs": [],
   "source": [
    "from ultralytics import YOLO\n",
    "import cv2\n",
    "import cvzone\n",
    "import math\n",
    "import time"
   ]
  },
  {
   "cell_type": "code",
   "execution_count": 5,
   "id": "3b6dfce9",
   "metadata": {},
   "outputs": [
    {
     "ename": "IndentationError",
     "evalue": "unexpected indent (3904023971.py, line 40)",
     "output_type": "error",
     "traceback": [
      "\u001b[1;36m  Cell \u001b[1;32mIn[5], line 40\u001b[1;36m\u001b[0m\n\u001b[1;33m    cvzone.putTextRect(img, f'{classNames[cls].upper()} {int(conf*100)}%',\u001b[0m\n\u001b[1;37m    ^\u001b[0m\n\u001b[1;31mIndentationError\u001b[0m\u001b[1;31m:\u001b[0m unexpected indent\n"
     ]
    }
   ],
   "source": [
    "\n",
    "confidence = 0.6\n",
    "\n",
    "cap = cv2.VideoCapture(0)  # For Webcam\n",
    "cap.set(3, 640)\n",
    "cap.set(4, 480)\n",
    "# cap = cv2.VideoCapture(\"../Videos/motorbikes.mp4\")  # For Video\n",
    "\n",
    "\n",
    "model = YOLO(\"../models/yolov8n.pt\")\n",
    "\n",
    "classNames = [\"fake\", \"real\"]\n",
    "\n",
    "prev_frame_time = 0\n",
    "new_frame_time = 0\n",
    "\n",
    "while True:\n",
    "    new_frame_time = time.time()\n",
    "    success, img = cap.read()\n",
    "    results = model(img, stream=True, verbose=False)\n",
    "    for r in results:\n",
    "        boxes = r.boxes\n",
    "        for box in boxes:\n",
    "            # Bounding Box\n",
    "            x1, y1, x2, y2 = box.xyxy[0]\n",
    "            x1, y1, x2, y2 = int(x1), int(y1), int(x2), int(y2)\n",
    "            # cv2.rectangle(img,(x1,y1),(x2,y2),(255,0,255),3)\n",
    "            w, h = x2 - x1, y2 - y1\n",
    "            # Confidence\n",
    "            conf = math.ceil((box.conf[0] * 100)) / 100\n",
    "            # Class Name\n",
    "            cls = int(box.cls[0])\n",
    "#             if conf > confidence:\n",
    "\n",
    "#                 if classNames[cls] == classNames[1]:\n",
    "#                     color = (0, 255, 0)\n",
    "#                 else:\n",
    "#                     color = (0, 0, 255)\n",
    "\n",
    "#                 cvzone.cornerRect(img, (x1, y1, w, h),colorC=color,colorR=color)\n",
    "#                 cvzone.putTextRect(img, f'{classNames[cls].upper()} {int(conf*100)}%',\n",
    "#                                    (max(0, x1), max(35, y1)), scale=2, thickness=4,colorR=color,\n",
    "#                                    colorB=color)\n",
    "             cvzone.putTextRect(img, f'{classNames[cls]}{conf})', (max(0, x1), max(35, y1)), scale=1, thickness=1, offset=3)\n",
    "                                \n",
    "    fps = 1 / (new_frame_time - prev_frame_time)\n",
    "    prev_frame_time = new_frame_time\n",
    "    print(fps)\n",
    "\n",
    "    cv2.imshow(\"Image\", img)\n",
    "    cv2.waitKey(1)"
   ]
  },
  {
   "cell_type": "code",
   "execution_count": null,
   "id": "da3f9178",
   "metadata": {},
   "outputs": [],
   "source": []
  }
 ],
 "metadata": {
  "kernelspec": {
   "display_name": "Python 3 (ipykernel)",
   "language": "python",
   "name": "python3"
  },
  "language_info": {
   "codemirror_mode": {
    "name": "ipython",
    "version": 3
   },
   "file_extension": ".py",
   "mimetype": "text/x-python",
   "name": "python",
   "nbconvert_exporter": "python",
   "pygments_lexer": "ipython3",
   "version": "3.11.5"
  }
 },
 "nbformat": 4,
 "nbformat_minor": 5
}
