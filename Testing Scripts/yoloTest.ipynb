{
 "cells": [
  {
   "cell_type": "code",
   "execution_count": 3,
   "id": "831742f7",
   "metadata": {},
   "outputs": [],
   "source": [
    "from ultralytics import YOLO\n",
    "import cv2\n",
    "import cvzone\n",
    "import math\n",
    "import time"
   ]
  },
  {
   "cell_type": "code",
   "execution_count": 4,
   "id": "3b6dfce9",
   "metadata": {},
   "outputs": [
    {
     "ename": "NameError",
     "evalue": "name 'cls' is not defined",
     "output_type": "error",
     "traceback": [
      "\u001b[1;31m---------------------------------------------------------------------------\u001b[0m",
      "\u001b[1;31mNameError\u001b[0m                                 Traceback (most recent call last)",
      "Cell \u001b[1;32mIn[4], line 43\u001b[0m\n\u001b[0;32m     31\u001b[0m             \u001b[38;5;28mcls\u001b[39m \u001b[38;5;241m=\u001b[39m \u001b[38;5;28mint\u001b[39m(box\u001b[38;5;241m.\u001b[39mcls[\u001b[38;5;241m0\u001b[39m])\n\u001b[0;32m     32\u001b[0m \u001b[38;5;66;03m#             if conf > confidence:\u001b[39;00m\n\u001b[0;32m     33\u001b[0m \n\u001b[0;32m     34\u001b[0m \u001b[38;5;66;03m#                 if classNames[cls] == classNames[1]:\u001b[39;00m\n\u001b[1;32m   (...)\u001b[0m\n\u001b[0;32m     41\u001b[0m \u001b[38;5;66;03m#                                    (max(0, x1), max(35, y1)), scale=2, thickness=4,colorR=color,\u001b[39;00m\n\u001b[0;32m     42\u001b[0m \u001b[38;5;66;03m#                                    colorB=color)\u001b[39;00m\n\u001b[1;32m---> 43\u001b[0m     cvzone\u001b[38;5;241m.\u001b[39mputTextRect(img, \u001b[38;5;124mf\u001b[39m\u001b[38;5;124m'\u001b[39m\u001b[38;5;132;01m{\u001b[39;00mclassNames[\u001b[38;5;28mcls\u001b[39m]\u001b[38;5;132;01m}\u001b[39;00m\u001b[38;5;132;01m{\u001b[39;00mconf\u001b[38;5;132;01m}\u001b[39;00m\u001b[38;5;124m)\u001b[39m\u001b[38;5;124m'\u001b[39m, (\u001b[38;5;28mmax\u001b[39m(\u001b[38;5;241m0\u001b[39m, x1), \u001b[38;5;28mmax\u001b[39m(\u001b[38;5;241m35\u001b[39m, y1)), scale\u001b[38;5;241m=\u001b[39m\u001b[38;5;241m1\u001b[39m, thickness\u001b[38;5;241m=\u001b[39m\u001b[38;5;241m1\u001b[39m, offset\u001b[38;5;241m=\u001b[39m\u001b[38;5;241m3\u001b[39m)\n\u001b[0;32m     45\u001b[0m     fps \u001b[38;5;241m=\u001b[39m \u001b[38;5;241m1\u001b[39m \u001b[38;5;241m/\u001b[39m (new_frame_time \u001b[38;5;241m-\u001b[39m prev_frame_time)\n\u001b[0;32m     46\u001b[0m     prev_frame_time \u001b[38;5;241m=\u001b[39m new_frame_time\n",
      "\u001b[1;31mNameError\u001b[0m: name 'cls' is not defined"
     ]
    }
   ],
   "source": [
    "\n",
    "confidence = 0.6\n",
    "\n",
    "cap = cv2.VideoCapture(0)  # For Webcam\n",
    "cap.set(3, 640)\n",
    "cap.set(4, 480)\n",
    "# cap = cv2.VideoCapture(\"../Videos/motorbikes.mp4\")  # For Video\n",
    "\n",
    "\n",
    "model = YOLO(\"../models/yolov8n.pt\")\n",
    "\n",
    "classNames = [\"fake\", \"real\"]\n",
    "\n",
    "prev_frame_time = 0\n",
    "new_frame_time = 0\n",
    "\n",
    "while True:\n",
    "    new_frame_time = time.time()\n",
    "    success, img = cap.read()\n",
    "    results = model(img, stream=True, verbose=False)\n",
    "    for r in results:\n",
    "        boxes = r.boxes\n",
    "        for box in boxes:\n",
    "            # Bounding Box\n",
    "            x1, y1, x2, y2 = box.xyxy[0]\n",
    "            x1, y1, x2, y2 = int(x1), int(y1), int(x2), int(y2)\n",
    "            # cv2.rectangle(img,(x1,y1),(x2,y2),(255,0,255),3)\n",
    "            w, h = x2 - x1, y2 - y1\n",
    "            # Confidence\n",
    "            conf = math.ceil((box.conf[0] * 100)) / 100\n",
    "            # Class Name\n",
    "            cls = int(box.cls[0])\n",
    "#             if conf > confidence:\n",
    "\n",
    "#                 if classNames[cls] == classNames[1]:\n",
    "#                     color = (0, 255, 0)\n",
    "#                 else:\n",
    "#                     color = (0, 0, 255)\n",
    "\n",
    "#                 cvzone.cornerRect(img, (x1, y1, w, h),colorC=color,colorR=color)\n",
    "#                 cvzone.putTextRect(img, f'{classNames[cls].upper()} {int(conf*100)}%',\n",
    "#                                    (max(0, x1), max(35, y1)), scale=2, thickness=4,colorR=color,\n",
    "#                                    colorB=color)\n",
    "    cvzone.putTextRect(img, f'{classNames[cls]}{conf})', (max(0, x1), max(35, y1)), scale=1, thickness=1, offset=3)\n",
    "                                \n",
    "    fps = 1 / (new_frame_time - prev_frame_time)\n",
    "    prev_frame_time = new_frame_time\n",
    "    print(fps)\n",
    "\n",
    "    cv2.imshow(\"Image\", img)\n",
    "    cv2.waitKey(1)"
   ]
  },
  {
   "cell_type": "code",
   "execution_count": null,
   "id": "da3f9178",
   "metadata": {},
   "outputs": [],
   "source": []
  }
 ],
 "metadata": {
  "kernelspec": {
   "display_name": "Python 3 (ipykernel)",
   "language": "python",
   "name": "python3"
  },
  "language_info": {
   "codemirror_mode": {
    "name": "ipython",
    "version": 3
   },
   "file_extension": ".py",
   "mimetype": "text/x-python",
   "name": "python",
   "nbconvert_exporter": "python",
   "pygments_lexer": "ipython3",
   "version": "3.11.5"
  }
 },
 "nbformat": 4,
 "nbformat_minor": 5
}
